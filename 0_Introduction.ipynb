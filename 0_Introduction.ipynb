{
 "cells": [
  {
   "cell_type": "markdown",
   "metadata": {},
   "source": [
    "#### Data Processing with Python"
   ]
  },
  {
   "cell_type": "markdown",
   "metadata": {},
   "source": [
    "<hr>\n",
    "\n",
    "# 0. Introduction\n",
    "\n",
    "This workshop introduces the [pandas](https://pandas.pydata.org) package, which supports data processing in python.\n",
    "\n",
    "Pandas makes it easier to build workflows that move between different kinds of task:\n",
    "\n",
    "- Reading tabular data\n",
    "- Tidying data\n",
    "- Transforming data\n",
    "- Data visualisation\n",
    "- Applying statistical tests\n",
    "\n",
    "This workshop assumes a basic familiarity with the python language, as covered in the *Introduction to Python* workshop."
   ]
  },
  {
   "cell_type": "markdown",
   "metadata": {},
   "source": [
    "## Jupyter notebooks\n",
    "\n",
    "This document is an example of an *Jupyter notebook*, which combines text and code and makes it easy to embed python analysis within a report (ouput as HTML, LaTeX or PDF). This can help to make research more reproducible by allowing you to share an entire analysis workflow together with a narrative.\n",
    "\n",
    "Text is formatted using [Markdown](https://github.com/adam-p/markdown-here/wiki/Markdown-Cheatsheet) notation. This is a simple way to apply styling to text and indicate the structure of your document.\n",
    "\n",
    "Python code is included as *code cells*, which look like this:"
   ]
  },
  {
   "cell_type": "code",
   "execution_count": null,
   "metadata": {},
   "outputs": [],
   "source": [
    "print(\"Hello Jupyter!\")"
   ]
  },
  {
   "cell_type": "markdown",
   "metadata": {},
   "source": [
    "When a code cell is highlighted, you can execute the code using *Shift-Enter*. The output also appears in the notebook just after the code cell.\n",
    "\n",
    "A notebook is a living document. You are encouraged to make use of this notebook to try out the example code, alter it, complete the exercises and add your own notes and code chunks. You can insert a new code chunk using the '+' icon above."
   ]
  },
  {
   "cell_type": "markdown",
   "metadata": {},
   "source": [
    "<hr>\n",
    "\n",
    "# License\n",
    "\n",
    "<a rel=\"license\" href=\"http://creativecommons.org/licenses/by-nc-sa/4.0/\"><img alt=\"Creative Commons License\" style=\"border-width:0\" src=\"https://i.creativecommons.org/l/by-nc-sa/4.0/80x15.png\" /></a><br />This work is licensed under a <a rel=\"license\" href=\"http://creativecommons.org/licenses/by-nc-sa/4.0/\">Creative Commons Attribution-NonCommercial-ShareAlike 4.0 International License</a>.\n",
    "\n",
    "<br>\n",
    "\n",
    "Planets data set derived from https://nssdc.gsfc.nasa.gov/planetary/factsheet/planet_table_ratio.html\n",
    "\n",
    "Countries data obtained from https://www.gapminder.org/data/"
   ]
  },
  {
   "cell_type": "markdown",
   "metadata": {},
   "source": [
    "***"
   ]
  }
 ],
 "metadata": {
  "kernelspec": {
   "display_name": "Python 3 (ipykernel)",
   "language": "python",
   "name": "python3"
  },
  "language_info": {
   "codemirror_mode": {
    "name": "ipython",
    "version": 3
   },
   "file_extension": ".py",
   "mimetype": "text/x-python",
   "name": "python",
   "nbconvert_exporter": "python",
   "pygments_lexer": "ipython3",
   "version": "3.8.16"
  }
 },
 "nbformat": 4,
 "nbformat_minor": 4
}
