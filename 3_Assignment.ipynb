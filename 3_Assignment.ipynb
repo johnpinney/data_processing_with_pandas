{
 "cells": [
  {
   "cell_type": "markdown",
   "metadata": {},
   "source": [
    "#### Data Processing with Python"
   ]
  },
  {
   "cell_type": "code",
   "execution_count": null,
   "metadata": {},
   "outputs": [],
   "source": [
    "import pandas as pd"
   ]
  },
  {
   "cell_type": "markdown",
   "metadata": {},
   "source": [
    "<hr>\n",
    "###### IN CASE OF PROBLEMS IMPORTING PACKAGES\n"
   ]
  },
  {
   "cell_type": "code",
   "execution_count": null,
   "metadata": {},
   "outputs": [],
   "source": [
    "# SOLUTION A: select this cell and type Shift-Enter to execute the code below.\n",
    "\n",
    "%conda install openpyxl pandas\n",
    "\n",
    "# Now restart the kernel (Menu -> Kernel -> Restart Kernel)"
   ]
  },
  {
   "cell_type": "code",
   "execution_count": null,
   "metadata": {},
   "outputs": [],
   "source": [
    "# SOLUTION B: select this cell and type Shift-Enter to execute the code below.\n",
    "\n",
    "%pip install openpyxl pandas\n",
    "\n",
    "# Now restart the kernel (Menu -> Kernel -> Restart Kernel)"
   ]
  },
  {
   "cell_type": "markdown",
   "metadata": {},
   "source": [
    "<hr>"
   ]
  },
  {
   "cell_type": "markdown",
   "metadata": {},
   "source": [
    "# 3. Assignment: Exam examiner\n",
    "\n",
    "This assignment is designed to give you more practice with the pandas tools we have looked at so far.\n",
    "\n",
    "* Allow *up to one hour* to work through the tasks. \n",
    "* It doesn't matter if you don't complete it.\n",
    "* You are welcome to team up to tackle it in groups, or work individually.\n",
    "* It won't be marked.\n"
   ]
  },
  {
   "cell_type": "markdown",
   "metadata": {},
   "source": [
    "### Guidance\n",
    "\n",
    "You may find the following [DataFrame methods](https://pandas.pydata.org/pandas-docs/stable/reference/frame.html) useful:\n",
    "\n",
    "[`drop_duplicates`](https://pandas.pydata.org/pandas-docs/stable/reference/api/pandas.DataFrame.drop_duplicates.html), [`dropna`](https://pandas.pydata.org/pandas-docs/stable/reference/api/pandas.DataFrame.dropna.html), [`join`](https://pandas.pydata.org/pandas-docs/stable/reference/api/pandas.DataFrame.join.html), [`melt`](https://pandas.pydata.org/pandas-docs/stable/reference/api/pandas.DataFrame.melt.html), [`str.split`](https://pandas.pydata.org/pandas-docs/stable/reference/api/pandas.Series.str.split.html)\n",
    "\n",
    "`join` can combine DataFrames in many ways and will be introduced properly in the next session.\n",
    "\n",
    "For now, you just need to know that it if two DataFrames `a` and `b` have the same index, you can construct a new DataFrame containing both sets of columns using `a.join(b)`:"
   ]
  },
  {
   "cell_type": "code",
   "execution_count": null,
   "metadata": {},
   "outputs": [],
   "source": [
    "a = pd.DataFrame( { 'x':[1,2,3,4,5]  } )\n",
    "b = pd.DataFrame( { 'y':[10,20,30,40,50], 'z':[True,False,False,True,True] } )\n",
    "a.join(b)"
   ]
  },
  {
   "cell_type": "markdown",
   "metadata": {},
   "source": [
    "### The tasks\n",
    "\n",
    "The file `exam_results.xlsx` contains data about some (fictional) students taking modules in a (fictional) Physics department."
   ]
  },
  {
   "cell_type": "markdown",
   "metadata": {},
   "source": [
    "1. Load the data with pandas. What are the observations and variables in this table?"
   ]
  },
  {
   "cell_type": "code",
   "execution_count": null,
   "metadata": {},
   "outputs": [],
   "source": []
  },
  {
   "cell_type": "markdown",
   "metadata": {},
   "source": [
    "2. Tidy the data."
   ]
  },
  {
   "cell_type": "code",
   "execution_count": null,
   "metadata": {},
   "outputs": [],
   "source": []
  },
  {
   "cell_type": "markdown",
   "metadata": {},
   "source": [
    "3. Using your tidied data, answer the following questions:"
   ]
  },
  {
   "cell_type": "markdown",
   "metadata": {},
   "source": [
    "* For MSci students, what is the mean grade for the Relativity exam?"
   ]
  },
  {
   "cell_type": "code",
   "execution_count": null,
   "metadata": {},
   "outputs": [],
   "source": []
  },
  {
   "cell_type": "markdown",
   "metadata": {},
   "source": [
    "* What proportion of the students are taking Physics as their major subject?"
   ]
  },
  {
   "cell_type": "code",
   "execution_count": null,
   "metadata": {},
   "outputs": [],
   "source": []
  },
  {
   "cell_type": "markdown",
   "metadata": {},
   "source": [
    "***"
   ]
  }
 ],
 "metadata": {
  "kernelspec": {
   "display_name": "Python 3 (ipykernel)",
   "language": "python",
   "name": "python3"
  },
  "language_info": {
   "codemirror_mode": {
    "name": "ipython",
    "version": 3
   },
   "file_extension": ".py",
   "mimetype": "text/x-python",
   "name": "python",
   "nbconvert_exporter": "python",
   "pygments_lexer": "ipython3",
   "version": "3.8.16"
  }
 },
 "nbformat": 4,
 "nbformat_minor": 4
}
