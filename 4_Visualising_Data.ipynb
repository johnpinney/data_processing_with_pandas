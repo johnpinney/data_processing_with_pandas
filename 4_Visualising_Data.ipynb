{
 "cells": [
  {
   "cell_type": "markdown",
   "metadata": {},
   "source": [
    "#### Data Processing with Python"
   ]
  },
  {
   "cell_type": "code",
   "execution_count": null,
   "metadata": {},
   "outputs": [],
   "source": [
    "import pandas as pd\n",
    "import numpy as np"
   ]
  },
  {
   "cell_type": "markdown",
   "metadata": {},
   "source": [
    "<hr>\n",
    "###### IN CASE OF PROBLEMS IMPORTING PACKAGES\n"
   ]
  },
  {
   "cell_type": "code",
   "execution_count": null,
   "metadata": {},
   "outputs": [],
   "source": [
    "# SOLUTION A: select this cell and type Shift-Enter to execute the code below.\n",
    "\n",
    "%conda install numpy openpyxl pandas seaborn\n",
    "\n",
    "# Now restart the kernel (Menu -> Kernel -> Restart Kernel)"
   ]
  },
  {
   "cell_type": "code",
   "execution_count": null,
   "metadata": {},
   "outputs": [],
   "source": [
    "# SOLUTION B: select this cell and type Shift-Enter to execute the code below.\n",
    "\n",
    "%pip install numpy openpyxl pandas seaborn\n",
    "\n",
    "# Now restart the kernel (Menu -> Kernel -> Restart Kernel)"
   ]
  },
  {
   "cell_type": "markdown",
   "metadata": {},
   "source": [
    "<hr>\n",
    "\n",
    "Run the following cell to rebuild the three `DataFrames` from the last notebook:"
   ]
  },
  {
   "cell_type": "code",
   "execution_count": null,
   "metadata": {},
   "outputs": [],
   "source": [
    "\n",
    "# countries\n",
    "countries = pd.read_excel(\"data_geographies_v1.xlsx\", sheet_name = \"list-of-countries-etc\")\n",
    "\n",
    "# co2\n",
    "data = pd.read_csv(\"yearly_co2_emissions_1000_tonnes.csv\")\n",
    "co2 = data.melt(id_vars=['country'], var_name='year', value_name='kt')\n",
    "co2.dropna(inplace=True)\n",
    "co2[\"year\"] = co2[\"year\"].astype(int)\n",
    "\n",
    "# stats97\n",
    "data = pd.read_csv('stats_1997.csv', header=None)\n",
    "df = data[0].str.split('-', expand=True)\n",
    "df.columns = ['geo','statistic']\n",
    "df['value'] = data[1]\n",
    "stats97 = df.pivot(index='geo',columns='statistic',values='value')\n"
   ]
  },
  {
   "cell_type": "markdown",
   "metadata": {},
   "source": [
    "# 4. Visualising Data"
   ]
  },
  {
   "cell_type": "markdown",
   "metadata": {},
   "source": [
    "Having loaded and tidied some data, a sensible next step is to visualise the distributions of variables to check for any issues.\n",
    "\n",
    "[Matplotlib](https://matplotlib.org) is the base graphics library in python. Although it has many useful plotting functions, in this session we will focus on making plots using another package called [seaborn](https://seaborn.pydata.org). This is another set of functions, built on top of matplotlib, that support a consistent approach to data visualisation, and integrate well with the pandas data structures. \n",
    "\n",
    "We need to import both matplotlib and seaborn:"
   ]
  },
  {
   "cell_type": "code",
   "execution_count": null,
   "metadata": {},
   "outputs": [],
   "source": [
    "import matplotlib.pyplot as plt\n",
    "import seaborn as sns\n",
    "\n",
    "# some adjustments to the default image resolution\n",
    "plt.rcParams['figure.dpi']= 100\n",
    "plt.rcParams['figure.figsize'] = (4.5,2.5)\n",
    "plt.rc(\"savefig\", dpi=150)"
   ]
  },
  {
   "cell_type": "markdown",
   "metadata": {},
   "source": [
    "Seaborn makes it much easier to create high-quality graphics in python for presentations and publications.\n",
    "\n",
    "The following commands override the matplotlib defaults with the chosen seaborn style, so that any plots produced by matplotlib will have the seaborn styling:"
   ]
  },
  {
   "cell_type": "code",
   "execution_count": null,
   "metadata": {},
   "outputs": [],
   "source": [
    "sns.set()\n",
    "sns.set_style(\"darkgrid\")"
   ]
  },
  {
   "cell_type": "markdown",
   "metadata": {},
   "source": [
    "## 4.1 Histogram\n",
    "\n",
    "Let's start with a histogram for the GDP data from `stats97`.\n",
    "\n",
    "The DataFrame actually has a set of built-in methods for plotting, which call the matplotlib functions. e.g.:"
   ]
  },
  {
   "cell_type": "code",
   "execution_count": null,
   "metadata": {},
   "outputs": [],
   "source": [
    "stats97.hist(\"gdp\")\n",
    "plt.show()"
   ]
  },
  {
   "cell_type": "markdown",
   "metadata": {},
   "source": [
    "The seaborn version of a histogram is called [`displot`](https://seaborn.pydata.org/generated/seaborn.displot.html#seaborn.displot). \n",
    "\n",
    "It is a bit fancier than matplotlib's:"
   ]
  },
  {
   "cell_type": "code",
   "execution_count": null,
   "metadata": {},
   "outputs": [],
   "source": [
    "sns.displot(stats97['gdp'])\n",
    "plt.show()"
   ]
  },
  {
   "cell_type": "markdown",
   "metadata": {},
   "source": [
    "The data are highly positively skewed, so let's take a log of the data using the numpy function `log10`."
   ]
  },
  {
   "cell_type": "code",
   "execution_count": null,
   "metadata": {},
   "outputs": [],
   "source": [
    "sns.displot(np.log10(stats97['gdp']))\n",
    "plt.show()"
   ]
  },
  {
   "cell_type": "markdown",
   "metadata": {},
   "source": [
    "Keyword arguments to the seaborn functions control the aesthetics:"
   ]
  },
  {
   "cell_type": "code",
   "execution_count": null,
   "metadata": {},
   "outputs": [],
   "source": [
    "sns.displot(np.log10(stats97['gdp']),\n",
    "             bins=30, \n",
    "             color='red')\n",
    "plt.show()"
   ]
  },
  {
   "cell_type": "markdown",
   "metadata": {},
   "source": [
    "The seaborn function `displot` returns a [`FacetGrid`](https://seaborn.pydata.org/generated/seaborn.FacetGrid.html#seaborn.FacetGrid) object, which we can use to set titles etc:"
   ]
  },
  {
   "cell_type": "code",
   "execution_count": null,
   "metadata": {},
   "outputs": [],
   "source": [
    "g = sns.displot(np.log10(stats97['gdp']),\n",
    "             bins=30, \n",
    "             color='red')\n",
    "g.set_titles('GDP in 1997')\n",
    "g.set_xlabels('log10(GDP / USD_2010)')\n",
    "plt.show()"
   ]
  },
  {
   "cell_type": "markdown",
   "metadata": {},
   "source": [
    "##### *Exercise*\n",
    "Make a similar histogram for 1997 population. Make it a different colour."
   ]
  },
  {
   "cell_type": "code",
   "execution_count": null,
   "metadata": {},
   "outputs": [],
   "source": []
  },
  {
   "cell_type": "markdown",
   "metadata": {},
   "source": [
    "### Saving plots to file\n",
    "\n",
    "We can save a plot to a file like so:"
   ]
  },
  {
   "cell_type": "code",
   "execution_count": null,
   "metadata": {},
   "outputs": [],
   "source": [
    "g.savefig('population.png')"
   ]
  },
  {
   "cell_type": "markdown",
   "metadata": {},
   "source": [
    "The file type is determined by the file extension."
   ]
  },
  {
   "cell_type": "markdown",
   "metadata": {},
   "source": [
    "## Box plot\n",
    "\n",
    "The same distribution can be summarised using the `boxplot()` function:\n"
   ]
  },
  {
   "cell_type": "code",
   "execution_count": null,
   "metadata": {},
   "outputs": [],
   "source": [
    "sns.boxplot(np.log10(stats97['gdp']))\n",
    "plt.show()"
   ]
  },
  {
   "cell_type": "markdown",
   "metadata": {},
   "source": [
    "## Violin plot\n",
    "\n",
    "The `violinplot()` function gives a similar but more informative view:\n"
   ]
  },
  {
   "cell_type": "code",
   "execution_count": null,
   "metadata": {},
   "outputs": [],
   "source": [
    "sns.violinplot(np.log10(stats97['gdp']))\n",
    "plt.show()"
   ]
  },
  {
   "cell_type": "markdown",
   "metadata": {},
   "source": [
    "## Scatter plot\n",
    "\n",
    "We can visualise covariation between variables using a scatter plot, for example GDP vs population. This uses `relplot()`:\n"
   ]
  },
  {
   "cell_type": "code",
   "execution_count": null,
   "metadata": {},
   "outputs": [],
   "source": [
    "sns.relplot(x='pop', y='gdp', data=np.log(stats97))\n",
    "plt.show()"
   ]
  },
  {
   "cell_type": "markdown",
   "metadata": {},
   "source": [
    "Using the `jointplot()` function, we can make use of a kernel density estimate (KDE) to summarise this joint distribution:"
   ]
  },
  {
   "cell_type": "code",
   "execution_count": null,
   "metadata": {},
   "outputs": [],
   "source": [
    "sns.jointplot(x='pop', y='gdp', data=np.log(stats97), kind='kde')\n",
    "plt.show()"
   ]
  },
  {
   "cell_type": "markdown",
   "metadata": {},
   "source": [
    "## Derived variables\n",
    "\n",
    "It might be more useful to compare countries' GDP on a per-capita basis. We need to make a new variable to show per-capita GDP. \n",
    "\n",
    "To do this, we will add a new column to the `DataFrame`."
   ]
  },
  {
   "cell_type": "markdown",
   "metadata": {},
   "source": [
    "##### *Exercise*\n",
    "\n",
    "1. Add GDP per person (**gdp_pp**) as a new column of `stats97`.\n",
    "\n",
    "2. Visualise the distribution of **gdp_pp**.\n"
   ]
  },
  {
   "cell_type": "code",
   "execution_count": null,
   "metadata": {},
   "outputs": [],
   "source": []
  },
  {
   "cell_type": "markdown",
   "metadata": {},
   "source": [
    "## Line plot"
   ]
  },
  {
   "cell_type": "markdown",
   "metadata": {},
   "source": [
    "##### *Exercise*\n",
    "\n",
    "Starting with the `co2` dataframe, plot the annual emissions of a country of your choice.\n",
    "\n",
    "*Hint*: use the seaborn `lineplot()` function.\n"
   ]
  },
  {
   "cell_type": "code",
   "execution_count": null,
   "metadata": {},
   "outputs": [],
   "source": []
  }
 ],
 "metadata": {
  "kernelspec": {
   "display_name": "Python 3 (ipykernel)",
   "language": "python",
   "name": "python3"
  },
  "language_info": {
   "codemirror_mode": {
    "name": "ipython",
    "version": 3
   },
   "file_extension": ".py",
   "mimetype": "text/x-python",
   "name": "python",
   "nbconvert_exporter": "python",
   "pygments_lexer": "ipython3",
   "version": "3.8.16"
  }
 },
 "nbformat": 4,
 "nbformat_minor": 4
}
