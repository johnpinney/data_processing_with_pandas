{
 "cells": [
  {
   "cell_type": "markdown",
   "metadata": {},
   "source": [
    "#### Data Processing with Python"
   ]
  },
  {
   "cell_type": "code",
   "execution_count": null,
   "metadata": {},
   "outputs": [],
   "source": [
    "import pandas as pd\n",
    "import matplotlib.pyplot as plt\n",
    "import seaborn as sns"
   ]
  },
  {
   "cell_type": "markdown",
   "metadata": {},
   "source": [
    "\n",
    "###### IN CASE OF PROBLEMS IMPORTING PACKAGES\n"
   ]
  },
  {
   "cell_type": "code",
   "execution_count": null,
   "metadata": {},
   "outputs": [],
   "source": [
    "# SOLUTION A: select this cell and type Shift-Enter to execute the code below.\n",
    "\n",
    "%conda install openpyxl pandas seaborn\n",
    "\n",
    "# Now restart the kernel (Menu -> Kernel -> Restart Kernel)"
   ]
  },
  {
   "cell_type": "code",
   "execution_count": null,
   "metadata": {},
   "outputs": [],
   "source": [
    "# SOLUTION B: select this cell and type Shift-Enter to execute the code below.\n",
    "\n",
    "%pip install openpyxl pandas seaborn\n",
    "\n",
    "# Now restart the kernel (Menu -> Kernel -> Restart Kernel)"
   ]
  },
  {
   "cell_type": "markdown",
   "metadata": {},
   "source": [
    "<hr>\n",
    "\n",
    "Run the following cell to rebuild the three `DataFrames`:"
   ]
  },
  {
   "cell_type": "code",
   "execution_count": null,
   "metadata": {},
   "outputs": [],
   "source": [
    "\n",
    "# countries\n",
    "countries = pd.read_excel(\"data_geographies_v1.xlsx\", sheet_name = \"list-of-countries-etc\")\n",
    "\n",
    "# co2\n",
    "data = pd.read_csv(\"yearly_co2_emissions_1000_tonnes.csv\")\n",
    "co2 = data.melt(id_vars=['country'], var_name='year', value_name='kt')\n",
    "co2.dropna(inplace=True)\n",
    "co2[\"year\"] = co2[\"year\"].astype(int)\n",
    "\n",
    "# stats97\n",
    "data = pd.read_csv('stats_1997.csv', header=None)\n",
    "df = data[0].str.split('-', expand=True)\n",
    "df.columns = ['geo','statistic']\n",
    "df['value'] = data[1]\n",
    "stats97 = df.pivot(index='geo',columns='statistic',values='value')\n"
   ]
  },
  {
   "cell_type": "markdown",
   "metadata": {},
   "source": [
    "# 5. Manipulating Data\n",
    "\n",
    "In this notebook, we will look at some more of pandas's data-handling tools.\n",
    "\n",
    "***\n",
    "## 5.1 Joining tables\n",
    "\n",
    "To compare emissions between countries in a fair way, it would make sense to convert them to a per-capita basis. \n",
    "Let's start with the figures for 1997 to see how this can be done.\n",
    "\n",
    "First we will make a new dataframe containing only the 1997 emissions:"
   ]
  },
  {
   "cell_type": "code",
   "execution_count": null,
   "metadata": {},
   "outputs": [],
   "source": [
    "co2_1997 = co2.query('year==1997')\n",
    "co2_1997"
   ]
  },
  {
   "cell_type": "markdown",
   "metadata": {},
   "source": [
    "However, the population data is not yet in the co2 dataframe, so we will need to look it up from another dataframe by matching the country name. \n",
    "\n",
    "This type of **relational data**, where information must be collected from multiple tables, requires careful handling to make sure that rows in different tables are correctly associated with each other. The country name acts as a **key** to unlock the correct data from the associated table.\n",
    "\n",
    "The relevant population data is in the stats97 table: "
   ]
  },
  {
   "cell_type": "code",
   "execution_count": null,
   "metadata": {},
   "outputs": [],
   "source": [
    "stats97"
   ]
  },
  {
   "cell_type": "markdown",
   "metadata": {},
   "source": [
    "However, this is indexed by the `geo` code, rather than the `country` name that we find in `co2_1997`. Fortunately, the `countries` table contains both:"
   ]
  },
  {
   "cell_type": "code",
   "execution_count": null,
   "metadata": {},
   "outputs": [],
   "source": [
    "countries.head()"
   ]
  },
  {
   "cell_type": "markdown",
   "metadata": {},
   "source": [
    "Taking the `co2_1997` data, we apply a `join()` to relate its `country` variable to the `name` variable in `countries`.\n",
    "\n",
    "To do this, we need to set these columns as the index in each table"
   ]
  },
  {
   "cell_type": "code",
   "execution_count": null,
   "metadata": {},
   "outputs": [],
   "source": [
    "a = co2_1997.set_index('country')\n",
    "b = countries.set_index('name')\n",
    "c = a.join(b)\n",
    "c.head()\n"
   ]
  },
  {
   "cell_type": "markdown",
   "metadata": {},
   "source": [
    "For every row in the table `a`, `join()` tries to match its index with a row index in `b`. \n",
    "The resulting table imports the additional columns from the `countries` tibble, so now we can associate each `geo` code with the correct CO2 emissions.\n",
    "\n",
    "`join()` is just one of several pandas functions for working with relational data.\n",
    "\n",
    "\n",
    "#### Exercise {-}\n",
    "\n",
    "Use another `join()` to connect `c` to `stats97`.\n",
    "\n",
    "*Hint*: you can move the current index column back into the body of the DataFrame using the method [`reset_index`](https://pandas.pydata.org/docs/reference/api/pandas.DataFrame.reset_index.html?highlight=reset_index#pandas.DataFrame.reset_index)"
   ]
  },
  {
   "cell_type": "code",
   "execution_count": null,
   "metadata": {},
   "outputs": [],
   "source": []
  },
  {
   "cell_type": "markdown",
   "metadata": {},
   "source": [
    "#### Exercise {-}\n",
    "\n",
    "Calculate the per-capita emissions for 1997 as a new column and plot these on a histogram."
   ]
  },
  {
   "cell_type": "code",
   "execution_count": null,
   "metadata": {},
   "outputs": [],
   "source": []
  },
  {
   "cell_type": "markdown",
   "metadata": {},
   "source": [
    "#### Exercise {-}\n",
    "\n",
    "The file `population_total.csv` contains (real or predicted) population data for each country for the years 1800-2100.\n",
    "\n",
    "Write a workflow to construct a new DataFrame `co2_pp` containing the following columns:\n",
    "\n",
    "* country\n",
    "* year\n",
    "* kt = total CO2 emissions (in kilotonnes)\n",
    "* pop = total population\n",
    "* t_pp = per-capita CO2 emissions (in tonnes)\n",
    "\n"
   ]
  },
  {
   "cell_type": "code",
   "execution_count": null,
   "metadata": {},
   "outputs": [],
   "source": []
  },
  {
   "cell_type": "markdown",
   "metadata": {},
   "source": [
    "***\n",
    "\n",
    "## 5.2 Summarising data across groups\n",
    "\n",
    "Cases often belong to distinct groups that we want to compare with each other in some way.\n",
    "\n",
    "\n",
    "#### Exercise {-}\n",
    "\n",
    "Using the output of the previous exercise and the `countries` dataframe, add a column for the `eight_regions` grouping."
   ]
  },
  {
   "cell_type": "code",
   "execution_count": null,
   "metadata": {},
   "outputs": [],
   "source": []
  },
  {
   "cell_type": "markdown",
   "metadata": {},
   "source": [
    "## Box plots\n",
    "\n",
    "Let's look at the data for 2014 only. Here's a more complex visualisation of the data:"
   ]
  },
  {
   "cell_type": "code",
   "execution_count": null,
   "metadata": {},
   "outputs": [],
   "source": [
    "d = co2_pp.query('year==2014')\n",
    "g = sns.catplot(x=\"eight_regions\",y=\"t_pp\",data=d,kind=\"box\")\n",
    "g.set_axis_labels(\"\", \"CO2 emissions per capita / tonnes\")\n",
    "g.set_xticklabels(rotation=90)\n",
    "plt.show()"
   ]
  },
  {
   "cell_type": "markdown",
   "metadata": {},
   "source": [
    "## groupby()\n",
    "\n",
    "Pandas allows you to define groups of rows and construct summary statistics for each group:"
   ]
  },
  {
   "cell_type": "code",
   "execution_count": null,
   "metadata": {},
   "outputs": [],
   "source": [
    "grouped = co2_pp.groupby(\"eight_regions\")"
   ]
  },
  {
   "cell_type": "code",
   "execution_count": null,
   "metadata": {},
   "outputs": [],
   "source": [
    "grouped['kt'].sum()"
   ]
  },
  {
   "cell_type": "markdown",
   "metadata": {},
   "source": [
    "##### *Exercise*\n",
    "\n",
    "Plot the total global CO2 emissions for each year.\n"
   ]
  },
  {
   "cell_type": "code",
   "execution_count": null,
   "metadata": {},
   "outputs": [],
   "source": []
  },
  {
   "cell_type": "markdown",
   "metadata": {},
   "source": [
    "##### *Exercise*\n",
    "\n",
    "Plot the yearly median per-capita CO2 emissions for the eight regions, from 1950 onwards.\n"
   ]
  },
  {
   "cell_type": "code",
   "execution_count": null,
   "metadata": {},
   "outputs": [],
   "source": []
  },
  {
   "cell_type": "markdown",
   "metadata": {},
   "source": [
    "***"
   ]
  }
 ],
 "metadata": {
  "kernelspec": {
   "display_name": "Python 3 (ipykernel)",
   "language": "python",
   "name": "python3"
  },
  "language_info": {
   "codemirror_mode": {
    "name": "ipython",
    "version": 3
   },
   "file_extension": ".py",
   "mimetype": "text/x-python",
   "name": "python",
   "nbconvert_exporter": "python",
   "pygments_lexer": "ipython3",
   "version": "3.8.16"
  }
 },
 "nbformat": 4,
 "nbformat_minor": 4
}
