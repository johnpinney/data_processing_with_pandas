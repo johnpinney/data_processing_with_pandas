{
 "cells": [
  {
   "cell_type": "markdown",
   "metadata": {},
   "source": [
    "#### Data Processing with Python"
   ]
  },
  {
   "cell_type": "code",
   "execution_count": null,
   "metadata": {},
   "outputs": [],
   "source": [
    "import pandas as pd"
   ]
  },
  {
   "cell_type": "markdown",
   "metadata": {},
   "source": [
    "<hr>\n",
    "###### IN CASE OF PROBLEMS IMPORTING PACKAGES\n"
   ]
  },
  {
   "cell_type": "code",
   "execution_count": null,
   "metadata": {},
   "outputs": [],
   "source": [
    "# SOLUTION A: select this cell and type Shift-Enter to execute the code below.\n",
    "\n",
    "%conda install openpyxl pandas\n",
    "\n",
    "# Now restart the kernel (Menu -> Kernel -> Restart Kernel)"
   ]
  },
  {
   "cell_type": "code",
   "execution_count": null,
   "metadata": {},
   "outputs": [],
   "source": [
    "# SOLUTION B: select this cell and type Shift-Enter to execute the code below.\n",
    "\n",
    "%pip install openpyxl pandas\n",
    "\n",
    "# Now restart the kernel (Menu -> Kernel -> Restart Kernel)"
   ]
  },
  {
   "cell_type": "markdown",
   "metadata": {},
   "source": [
    "<hr>\n",
    "\n",
    "# 2. Loading and Tidying Data"
   ]
  },
  {
   "cell_type": "markdown",
   "metadata": {},
   "source": [
    "The remainder of this workshop will focus on data taken from the [GapMinder](https://www.gapminder.org/data/) project."
   ]
  },
  {
   "cell_type": "markdown",
   "metadata": {},
   "source": [
    "***\n",
    "\n",
    "## 2.1 Excel workbook\n",
    "\n",
    "Some of the data we will need later is in the Excel workbook `data_geographies_v1.xlsx`.\n",
    "\n",
    "We can use the `read_excel` function to load data from the relevant sheet in the Excel workbook. This can read both xls and xlsx files and detects the format from the extension.\n",
    "\n",
    "We only want to import a single sheet (named `list-of-countries-etc`) from this workbook."
   ]
  },
  {
   "cell_type": "code",
   "execution_count": null,
   "metadata": {},
   "outputs": [],
   "source": [
    "countries = pd.read_excel(\"data_geographies_v1.xlsx\", sheet_name = \"list-of-countries-etc\")"
   ]
  },
  {
   "cell_type": "markdown",
   "metadata": {},
   "source": [
    "The variable `countries` now points to a `DataFrame` object containing our data."
   ]
  },
  {
   "cell_type": "code",
   "execution_count": null,
   "metadata": {},
   "outputs": [],
   "source": [
    "countries.head()"
   ]
  },
  {
   "cell_type": "markdown",
   "metadata": {},
   "source": [
    "##### *Exercise 2a*\n",
    "\n",
    "\n",
    "Use manipulations of `countries` to complete the following tasks:\n",
    "\n",
    "\n",
    "1. Find all the countries that are south of the equator."
   ]
  },
  {
   "cell_type": "code",
   "execution_count": null,
   "metadata": {},
   "outputs": [],
   "source": []
  },
  {
   "cell_type": "markdown",
   "metadata": {},
   "source": [
    "2. Find the first eight African countries to join the UN."
   ]
  },
  {
   "cell_type": "code",
   "execution_count": null,
   "metadata": {},
   "outputs": [],
   "source": []
  },
  {
   "cell_type": "markdown",
   "metadata": {},
   "source": [
    "3. Make an array of OECD country names, sorted from East to West."
   ]
  },
  {
   "cell_type": "code",
   "execution_count": null,
   "metadata": {},
   "outputs": [],
   "source": []
  },
  {
   "cell_type": "markdown",
   "metadata": {},
   "source": [
    "***\n",
    "\n",
    "## 2.2 CSV file"
   ]
  },
  {
   "cell_type": "markdown",
   "metadata": {},
   "source": [
    "Next, let's load some data from a CSV ([comma separated values](https://en.wikipedia.org/wiki/Comma-separated_values)) file using `read_csv`:"
   ]
  },
  {
   "cell_type": "code",
   "execution_count": null,
   "metadata": {},
   "outputs": [],
   "source": [
    "data = pd.read_csv(\"yearly_co2_emissions_1000_tonnes.csv\")\n",
    "data.head()"
   ]
  },
  {
   "cell_type": "markdown",
   "metadata": {},
   "source": [
    "This is a straightforward numerical DataFrame which contains a lot of missing values (shown as `NaN`). \n",
    "The table shows annual CO<sub>2</sub> emissions from burning fossil fuels for each country.\n",
    "\n",
    "We can investigate missing data using the [`isnull`](https://pandas.pydata.org/pandas-docs/stable/reference/api/pandas.DataFrame.isnull.html) method, e.g.:"
   ]
  },
  {
   "cell_type": "code",
   "execution_count": null,
   "metadata": {},
   "outputs": [],
   "source": [
    "data.isnull().head()"
   ]
  },
  {
   "cell_type": "markdown",
   "metadata": {},
   "source": [
    "##### *Exercise 2b*\n",
    "\n",
    "How many values are missing in `data`?"
   ]
  },
  {
   "cell_type": "code",
   "execution_count": null,
   "metadata": {},
   "outputs": [],
   "source": []
  },
  {
   "cell_type": "markdown",
   "metadata": {},
   "source": [
    "***\n",
    "\n",
    "## 2.3 Tidying up!\n",
    "\n",
    "Data scientists put a lot of emphasis on working with **tidy** data. What do we mean by that?\n",
    "\n",
    "Tidy data follows the following three rules:\n",
    "\n",
    "1. Each column is a variable\n",
    "2. Each row is an observation (also known as a \"case\")\n",
    "3. Each cell contains a single value.\n",
    "\n",
    "When data is tidy, we can visualise and analyse it more easily.\n",
    "\n",
    "However, most of the data tables that you encounter \"in the wild\" will not be tidy by this definition, so pandas provides functions to help reshape them into a tidy form.\n",
    "\n",
    "\n",
    "##### *Exercise 2c*\n",
    "Look at the CO<sub>2</sub> data. What are the variables in this dataset?"
   ]
  },
  {
   "cell_type": "code",
   "execution_count": null,
   "metadata": {},
   "outputs": [],
   "source": []
  },
  {
   "cell_type": "markdown",
   "metadata": {},
   "source": [
    "### [`melt`](https://pandas.pydata.org/pandas-docs/stable/reference/api/pandas.DataFrame.melt.html)\n",
    "\n",
    "We can use the `melt` method to reshape the data:"
   ]
  },
  {
   "cell_type": "code",
   "execution_count": null,
   "metadata": {},
   "outputs": [],
   "source": [
    "df = data.melt(id_vars=['country'], var_name='year', value_name='kt')\n",
    "df"
   ]
  },
  {
   "cell_type": "markdown",
   "metadata": {},
   "source": [
    "`melt` works to *lengthen* the data table by collecting values from multiple columns.\n",
    "\n",
    "We specify the columns to hold fixed (`country`) and provide the names of two new variables, one to hold the old column labels (`year`) and one to hold\n",
    "the values collected (`kt`). \n",
    "\n",
    "`df` currently has a lot of useless rows.\n",
    "We can use the [`dropna`](https://pandas.pydata.org/pandas-docs/stable/reference/api/pandas.DataFrame.dropna.html) method to remove rows that contain missing data (`NaN`):"
   ]
  },
  {
   "cell_type": "code",
   "execution_count": null,
   "metadata": {},
   "outputs": [],
   "source": [
    "df = df.dropna()\n",
    "df"
   ]
  },
  {
   "cell_type": "markdown",
   "metadata": {},
   "source": [
    "Let's store the tidied data in a new variable, `co2`:"
   ]
  },
  {
   "cell_type": "code",
   "execution_count": null,
   "metadata": {},
   "outputs": [],
   "source": [
    "co2 = df"
   ]
  },
  {
   "cell_type": "markdown",
   "metadata": {},
   "source": [
    "##### *Exercise 2d*\n",
    "\n",
    "How much CO<sub>2</sub> was emitted globally  before 1900?"
   ]
  },
  {
   "cell_type": "code",
   "execution_count": null,
   "metadata": {},
   "outputs": [],
   "source": []
  },
  {
   "cell_type": "markdown",
   "metadata": {},
   "source": [
    "### Changing data type\n",
    "\n",
    "There seems to be an issue with the new `year` column. We can check its data type:"
   ]
  },
  {
   "cell_type": "code",
   "execution_count": null,
   "metadata": {},
   "outputs": [],
   "source": [
    "co2.dtypes"
   ]
  },
  {
   "cell_type": "markdown",
   "metadata": {},
   "source": [
    "The `year` column is shown as having an `object` data type, not an `int` as expected. \n",
    "\n",
    "This is because the years have been derived from column names (strings) in the previous version of the table. Let's fix this before going any further:"
   ]
  },
  {
   "cell_type": "code",
   "execution_count": null,
   "metadata": {},
   "outputs": [],
   "source": [
    "df = co2.copy()\n",
    "df['year'] = df['year'].astype(int)\n",
    "df.dtypes"
   ]
  },
  {
   "cell_type": "markdown",
   "metadata": {},
   "source": [
    "That looks much better!"
   ]
  },
  {
   "cell_type": "code",
   "execution_count": null,
   "metadata": {},
   "outputs": [],
   "source": [
    "co2 = df"
   ]
  },
  {
   "cell_type": "markdown",
   "metadata": {},
   "source": [
    "##### *Exercise 2d (again)*\n",
    "\n",
    "How much CO<sub>2</sub> was emitted globally  before 1900?"
   ]
  },
  {
   "cell_type": "code",
   "execution_count": null,
   "metadata": {},
   "outputs": [],
   "source": []
  },
  {
   "cell_type": "markdown",
   "metadata": {},
   "source": [
    "***\n",
    "\n",
    "## 2.4 CSV without headers\n",
    "\n",
    "Now that `co2` is in a tidy form, let's look at another example. `stats_1997.csv` is a CSV file containing GDP and population for various countries for the year 1997.\n",
    "\n",
    "Actually this file is not in correct CSV format, because it is missing a header row. You can open it in Excel to verify this. However, we can still load it using `read_csv` as follows:"
   ]
  },
  {
   "cell_type": "code",
   "execution_count": null,
   "metadata": {},
   "outputs": [],
   "source": [
    "data = pd.read_csv(\"stats_1997.csv\", header=None)\n",
    "data"
   ]
  },
  {
   "cell_type": "markdown",
   "metadata": {},
   "source": [
    "You can see that the two columns in this file have been given the labels `0` and `1`.\n",
    "\n",
    "This file looks a bit harder to tidy. \n",
    "\n",
    "##### *Exercise 2e*\n",
    "\n",
    "What are the variables in this data set and what are the observations?"
   ]
  },
  {
   "cell_type": "code",
   "execution_count": null,
   "metadata": {},
   "outputs": [],
   "source": []
  },
  {
   "cell_type": "markdown",
   "metadata": {},
   "source": [
    "***\n",
    "\n",
    "## 2.5 More tidying up!\n",
    "\n",
    "### [`str.split`](https://pandas.pydata.org/pandas-docs/stable/reference/api/pandas.Series.str.split.html)\n",
    "\n",
    "First, we need to split the data from column `0` into two columns: one for the three-letter country code (the variable that was called `geo` in the Excel workbook), and one for the type of measurement (GDP or population).\n",
    "We can do this with a Series method called `str.split`:"
   ]
  },
  {
   "cell_type": "code",
   "execution_count": null,
   "metadata": {},
   "outputs": [],
   "source": [
    "df = data[0].str.split('-', expand=True)\n",
    "df"
   ]
  },
  {
   "cell_type": "markdown",
   "metadata": {},
   "source": [
    "Now let's fix the column names and add on the column with the values:"
   ]
  },
  {
   "cell_type": "code",
   "execution_count": null,
   "metadata": {},
   "outputs": [],
   "source": [
    "df.columns = ['geo','statistic']\n",
    "df['value'] = data[1]\n",
    "df"
   ]
  },
  {
   "cell_type": "markdown",
   "metadata": {},
   "source": [
    "### [`pivot`](https://pandas.pydata.org/pandas-docs/stable/reference/api/pandas.DataFrame.pivot.html)\n",
    "\n",
    "Now we need to separate the GDP and population values into two different columns. This is done using the `pivot` method:"
   ]
  },
  {
   "cell_type": "code",
   "execution_count": null,
   "metadata": {},
   "outputs": [],
   "source": [
    "df2 = df.pivot(index='geo',columns='statistic',values='value')\n",
    "df2"
   ]
  },
  {
   "cell_type": "markdown",
   "metadata": {},
   "source": [
    "Now each column is a variable, each row is an observation, and each cell is a single value, so we have successfully tidied the data."
   ]
  },
  {
   "cell_type": "markdown",
   "metadata": {},
   "source": [
    "Notice that there are fewer rows than before; The `pivot` action is to *shorten* the length of the table\n",
    "\n",
    "Notice also that the resulting DataFrame uses the data from the **geo** column as *row labels*. \n",
    "\n",
    "Pandas calls this set of labels an [`index`](https://pandas.pydata.org/pandas-docs/stable/reference/api/pandas.DataFrame.index.html). "
   ]
  },
  {
   "cell_type": "code",
   "execution_count": null,
   "metadata": {},
   "outputs": [],
   "source": [
    "df2.index"
   ]
  },
  {
   "cell_type": "markdown",
   "metadata": {},
   "source": [
    "This will be important later, when we need to combine data from more than one DataFrame.\n",
    "\n",
    "Let's store the tidied DataFrame in a new variable:"
   ]
  },
  {
   "cell_type": "code",
   "execution_count": null,
   "metadata": {},
   "outputs": [],
   "source": [
    "stats97 = df2"
   ]
  },
  {
   "cell_type": "markdown",
   "metadata": {},
   "source": [
    "##### *Exercise 2f*\n",
    "\n",
    "In 1997, how many countries had a population less than 100,000?"
   ]
  },
  {
   "cell_type": "code",
   "execution_count": null,
   "metadata": {},
   "outputs": [],
   "source": []
  },
  {
   "cell_type": "markdown",
   "metadata": {},
   "source": [
    "***"
   ]
  }
 ],
 "metadata": {
  "kernelspec": {
   "display_name": "Python 3 (ipykernel)",
   "language": "python",
   "name": "python3"
  },
  "language_info": {
   "codemirror_mode": {
    "name": "ipython",
    "version": 3
   },
   "file_extension": ".py",
   "mimetype": "text/x-python",
   "name": "python",
   "nbconvert_exporter": "python",
   "pygments_lexer": "ipython3",
   "version": "3.8.16"
  }
 },
 "nbformat": 4,
 "nbformat_minor": 4
}
