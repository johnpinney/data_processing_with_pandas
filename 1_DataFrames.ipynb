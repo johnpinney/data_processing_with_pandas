{
 "cells": [
  {
   "cell_type": "markdown",
   "metadata": {},
   "source": [
    "#### Data Processing with Python"
   ]
  },
  {
   "cell_type": "markdown",
   "metadata": {},
   "source": [
    "If pandas is installed in your python environment, it's easy to import:"
   ]
  },
  {
   "cell_type": "code",
   "execution_count": null,
   "metadata": {},
   "outputs": [],
   "source": [
    "import pandas as pd"
   ]
  },
  {
   "cell_type": "markdown",
   "metadata": {},
   "source": [
    "<hr>\n",
    "##### IN CASE OF PROBLEMS WITH PACKAGES:\n"
   ]
  },
  {
   "cell_type": "code",
   "execution_count": null,
   "metadata": {},
   "outputs": [],
   "source": [
    "# SOLUTION A: select this cell and type Shift-Enter to execute the code below.\n",
    "\n",
    "%conda install pandas\n",
    "\n",
    "# Now restart the kernel (Menu -> Kernel -> Restart Kernel)"
   ]
  },
  {
   "cell_type": "code",
   "execution_count": null,
   "metadata": {},
   "outputs": [],
   "source": [
    "# SOLUTION B: select this cell and type Shift-Enter to execute the code below.\n",
    "\n",
    "%pip install pandas\n",
    "\n",
    "# Now restart the kernel (Menu -> Kernel -> Restart Kernel)"
   ]
  },
  {
   "cell_type": "markdown",
   "metadata": {},
   "source": [
    "<hr>\n",
    "\n",
    "# 1. DataFrames"
   ]
  },
  {
   "cell_type": "markdown",
   "metadata": {},
   "source": [
    "Pandas is built around a fundamental data object called a [DataFrame](https://pandas.pydata.org/pandas-docs/stable/reference/frame.html).\n",
    "\n",
    "Here's how you can create one from a python [dict](https://docs.python.org/3/tutorial/datastructures.html#dictionaries):"
   ]
  },
  {
   "cell_type": "code",
   "execution_count": null,
   "metadata": {},
   "outputs": [],
   "source": [
    "planets = pd.DataFrame({ \n",
    "    'name' : [\"Mercury\", \"Venus\", \"Earth\", \"Mars\", \"Jupiter\", \"Saturn\", \"Uranus\", \"Neptune\"], \n",
    "    'type' : [\"Terrestrial\", \"Terrestrial\", \"Terrestrial\", \"Terrestrial\", \"Gas giant\", \"Gas giant\", \"Ice giant\", \"Ice giant\"],\n",
    "    'mass' : [0.0553, 0.815, 1, 0.107, 317.8, 95.2, 14.5, 17.1],\n",
    "    'diameter' : [0.383, 0.949, 1, 0.532, 11.21, 9.45, 4.01, 3.88],\n",
    "    'distance from sun' : [0.387, 0.723, 1, 1.52, 5.20, 9.58, 19.2, 30.05],\n",
    "    'orbital period' : [0.241, 0.615, 1, 1.88, 11.9, 29.4, 83.7, 163.7],\n",
    "    'rings' : [False, False, False, False, True, True, True, True]\n",
    "})\n",
    "\n",
    "planets"
   ]
  },
  {
   "cell_type": "markdown",
   "metadata": {},
   "source": [
    "The variable `planets` now points to a DataFrame object containing our data. We can get a quick glimpse of the data using the [`head`](https://pandas.pydata.org/pandas-docs/stable/reference/api/pandas.DataFrame.head.html) method, which returns the first five rows:"
   ]
  },
  {
   "cell_type": "code",
   "execution_count": null,
   "metadata": {},
   "outputs": [],
   "source": [
    "planets.head(3)"
   ]
  },
  {
   "cell_type": "markdown",
   "metadata": {},
   "source": [
    "The attribute [`shape`](https://pandas.pydata.org/pandas-docs/stable/reference/api/pandas.DataFrame.shape.html) holds the dimensions of the DataFrame as (#rows, #columns) :"
   ]
  },
  {
   "cell_type": "code",
   "execution_count": null,
   "metadata": {},
   "outputs": [],
   "source": [
    "planets.shape"
   ]
  },
  {
   "cell_type": "markdown",
   "metadata": {},
   "source": [
    "***\n",
    "\n",
    "## 1.1 Methods and Attributes\n",
    "\n",
    "To make use of a DataFrame, we need to understand some basic concepts in object-oriented python.\n",
    "\n",
    "A *method* is a function that is bound to an object. We show that we want to call the method `head` of the object `planets` using a dot: `planets.head()`.\n",
    "\n",
    "In a similar way, objects can have associated variables called *attributes*, such as `planets.shape`"
   ]
  },
  {
   "cell_type": "markdown",
   "metadata": {},
   "source": [
    "A pandas DataFrame has many other useful [methods](https://pandas.pydata.org/pandas-docs/stable/reference/frame.html#computations-descriptive-stats) and [attributes](https://pandas.pydata.org/pandas-docs/stable/reference/frame.html#attributes-and-underlying-data).\n",
    "\n",
    "##### *Exercise 1a*\n",
    "\n",
    "1. What do the following methods do?\n",
    "\n",
    "[`tail`](https://pandas.pydata.org/pandas-docs/stable/reference/api/pandas.DataFrame.tail.html),\n",
    "[`sample`](https://pandas.pydata.org/pandas-docs/stable/reference/api/pandas.DataFrame.sample.html),\n",
    "[`describe`](https://pandas.pydata.org/pandas-docs/stable/reference/api/pandas.DataFrame.describe.html),\n",
    "[`copy`](https://pandas.pydata.org/pandas-docs/stable/reference/api/pandas.DataFrame.copy.html)\n",
    "\n"
   ]
  },
  {
   "cell_type": "code",
   "execution_count": null,
   "metadata": {},
   "outputs": [],
   "source": []
  },
  {
   "cell_type": "markdown",
   "metadata": {},
   "source": [
    "2. To what do the following attributes refer?\n",
    "\n",
    "[`size`](https://pandas.pydata.org/pandas-docs/stable/reference/api/pandas.DataFrame.size.html),\n",
    "[`dtypes`](https://pandas.pydata.org/pandas-docs/stable/reference/api/pandas.DataFrame.dtypes.html),\n",
    "[`columns`](https://pandas.pydata.org/pandas-docs/stable/reference/api/pandas.DataFrame.columns.html),\n",
    "[`values`](https://pandas.pydata.org/pandas-docs/stable/reference/api/pandas.DataFrame.values.html)"
   ]
  },
  {
   "cell_type": "code",
   "execution_count": null,
   "metadata": {},
   "outputs": [],
   "source": []
  },
  {
   "cell_type": "markdown",
   "metadata": {},
   "source": [
    "***\n",
    "\n",
    "## 1.2 Accessing Data\n",
    "\n",
    "Pandas provides several different ways to get data out of the DataFrame.\n",
    "\n"
   ]
  },
  {
   "cell_type": "markdown",
   "metadata": {},
   "source": [
    "### Accessing single values\n",
    "\n",
    "A single value can be accessed using [`iat[]`](https://pandas.pydata.org/pandas-docs/stable/reference/api/pandas.DataFrame.iat.html). \n",
    "\n",
    "We can think of it as meaning \"the value **at** an **i**nteger position\". \n",
    "\n",
    "It treats the DataFrame like an array with two *axes*.\n",
    "\n",
    "The row coordinate is the first axis; the column coordinate is second.\n"
   ]
  },
  {
   "cell_type": "code",
   "execution_count": null,
   "metadata": {},
   "outputs": [],
   "source": [
    "planets.iat[1,2]"
   ]
  },
  {
   "cell_type": "markdown",
   "metadata": {},
   "source": [
    "### Accessing rows and columns\n",
    "\n",
    "[`iloc[]`](https://pandas.pydata.org/pandas-docs/stable/reference/api/pandas.DataFrame.iloc.html) means \"**loc**ate data by **i**nteger position\". \n",
    "\n",
    "It is used to access subsets of rows and columns, using the same coordinate system as `iat[]`."
   ]
  },
  {
   "cell_type": "markdown",
   "metadata": {},
   "source": [
    "#### Selecting rows\n",
    "\n",
    "We can use `iloc[]` with a [slice](https://www.freecodecamp.org/news/slicing-and-indexing-in-python/) to get a subset of rows:"
   ]
  },
  {
   "cell_type": "code",
   "execution_count": null,
   "metadata": {},
   "outputs": [],
   "source": [
    "planets.iloc[2:4]"
   ]
  },
  {
   "cell_type": "markdown",
   "metadata": {},
   "source": [
    "Because *slicing rows* is such a common operation, pandas also provides a shortcut:"
   ]
  },
  {
   "cell_type": "code",
   "execution_count": null,
   "metadata": {},
   "outputs": [],
   "source": [
    "planets[2:4]"
   ]
  },
  {
   "cell_type": "markdown",
   "metadata": {},
   "source": [
    "Alternatively, we can provide `iloc[]` with a list of the indices to select:"
   ]
  },
  {
   "cell_type": "code",
   "execution_count": null,
   "metadata": {},
   "outputs": [],
   "source": [
    "planets.iloc[[1,3,5]]"
   ]
  },
  {
   "cell_type": "markdown",
   "metadata": {},
   "source": [
    "##### *Exercise 1b*\n",
    "\n",
    "1. Select the last three rows."
   ]
  },
  {
   "cell_type": "code",
   "execution_count": null,
   "metadata": {},
   "outputs": [],
   "source": []
  },
  {
   "cell_type": "markdown",
   "metadata": {},
   "source": [
    "2. Select three rows at random."
   ]
  },
  {
   "cell_type": "code",
   "execution_count": null,
   "metadata": {},
   "outputs": [],
   "source": []
  },
  {
   "cell_type": "markdown",
   "metadata": {},
   "source": [
    "3. Make a DataFrame containing only the first row."
   ]
  },
  {
   "cell_type": "code",
   "execution_count": null,
   "metadata": {},
   "outputs": [],
   "source": []
  },
  {
   "cell_type": "markdown",
   "metadata": {},
   "source": [
    "4. Make a DataFrame containing the first, second and last rows."
   ]
  },
  {
   "cell_type": "code",
   "execution_count": null,
   "metadata": {},
   "outputs": [],
   "source": []
  },
  {
   "cell_type": "markdown",
   "metadata": {},
   "source": [
    "#### Selecting columns\n",
    "\n",
    "We can access columns by integer using the second axis of `iloc[]`:\n"
   ]
  },
  {
   "cell_type": "code",
   "execution_count": null,
   "metadata": {},
   "outputs": [],
   "source": [
    "planets.iloc[:,2]"
   ]
  },
  {
   "cell_type": "markdown",
   "metadata": {},
   "source": [
    "Using an integer index (e.g. `2` above), this returns the column values in the form of a pandas [Series](https://pandas.pydata.org/pandas-docs/stable/reference/series.html) object. \n",
    "\n",
    "Here's how to return the same column as a DataFrame:"
   ]
  },
  {
   "cell_type": "code",
   "execution_count": null,
   "metadata": {},
   "outputs": [],
   "source": [
    "planets.iloc[:,[2]]"
   ]
  },
  {
   "cell_type": "markdown",
   "metadata": {},
   "source": [
    "Notice that we still need to provide a placeholder `:` before the comma, to indicate \"all of the rows\".\n",
    "\n",
    "Using a slice or list after the comma returns a subset of columns:"
   ]
  },
  {
   "cell_type": "code",
   "execution_count": null,
   "metadata": {},
   "outputs": [],
   "source": [
    "planets.iloc[:,2:4]"
   ]
  },
  {
   "cell_type": "markdown",
   "metadata": {},
   "source": [
    "However, accessing columns by position is not usually very convenient. We need to be able to refer to the columns by their *labels*."
   ]
  },
  {
   "cell_type": "markdown",
   "metadata": {},
   "source": [
    "### Accessing by label\n",
    "[`loc[]`](https://pandas.pydata.org/pandas-docs/stable/reference/api/pandas.DataFrame.loc.html) means \"locate by label\". Our columns are labelled with strings.\n"
   ]
  },
  {
   "cell_type": "code",
   "execution_count": null,
   "metadata": {},
   "outputs": [],
   "source": [
    "planets.loc[:,'name']"
   ]
  },
  {
   "cell_type": "markdown",
   "metadata": {},
   "source": [
    "This returns a Series object, which represents the data from a single column. The numbers shown next to the values are the *row labels*."
   ]
  },
  {
   "cell_type": "markdown",
   "metadata": {},
   "source": [
    "As a shortcut, we can also use `[]` with the *column labels* to select specified columns:"
   ]
  },
  {
   "cell_type": "code",
   "execution_count": null,
   "metadata": {},
   "outputs": [],
   "source": [
    "planets['name']"
   ]
  },
  {
   "cell_type": "markdown",
   "metadata": {},
   "source": [
    "You may also encounter the following usage, where the column label is used as a direct attribute of the DataFrame:"
   ]
  },
  {
   "cell_type": "code",
   "execution_count": null,
   "metadata": {
    "tags": []
   },
   "outputs": [],
   "source": [
    "planets.name"
   ]
  },
  {
   "cell_type": "markdown",
   "metadata": {},
   "source": [
    "However, there are several limitations to this notation that mean it cannot be used in all situations (e.g. it will not deal with column labels that contain spaces, and there will be confusions if the column label is the same as an existing attribute or method.)"
   ]
  },
  {
   "cell_type": "markdown",
   "metadata": {},
   "source": [
    "A list placed inside the `[]` shortcut can be used to select multiple columns."
   ]
  },
  {
   "cell_type": "code",
   "execution_count": null,
   "metadata": {},
   "outputs": [],
   "source": [
    "planets[['name','mass']]"
   ]
  },
  {
   "cell_type": "markdown",
   "metadata": {},
   "source": [
    "##### *Exercise 1c*\n",
    "\n",
    "1. Select the first three rows, but only the **name** and **diameter** columns."
   ]
  },
  {
   "cell_type": "code",
   "execution_count": null,
   "metadata": {},
   "outputs": [],
   "source": []
  },
  {
   "cell_type": "markdown",
   "metadata": {},
   "source": [
    "2. Select the first two columns for rows 4 and 6."
   ]
  },
  {
   "cell_type": "code",
   "execution_count": null,
   "metadata": {},
   "outputs": [],
   "source": []
  },
  {
   "cell_type": "markdown",
   "metadata": {},
   "source": [
    "3. Select all columns from **type** to **diameter** inclusive."
   ]
  },
  {
   "cell_type": "code",
   "execution_count": null,
   "metadata": {},
   "outputs": [],
   "source": []
  },
  {
   "cell_type": "markdown",
   "metadata": {},
   "source": [
    "***\n",
    "\n",
    "## 1.3 Querying and sorting data\n",
    "\n",
    "Of course, we are not just limited to accessing data by position and label.\n",
    "\n",
    "Here are a couple of useful DataFrame methods for basic data manipulation:"
   ]
  },
  {
   "cell_type": "markdown",
   "metadata": {},
   "source": [
    "### [`query`](https://pandas.pydata.org/pandas-docs/stable/reference/api/pandas.DataFrame.query.html)\n",
    "selects rows according to whatever conditions we specify, e.g.:"
   ]
  },
  {
   "cell_type": "code",
   "execution_count": null,
   "metadata": {},
   "outputs": [],
   "source": [
    "planets.query('name == \"Earth\"')"
   ]
  },
  {
   "cell_type": "code",
   "execution_count": null,
   "metadata": {},
   "outputs": [],
   "source": [
    "planets.query('diameter > 2')"
   ]
  },
  {
   "cell_type": "markdown",
   "metadata": {},
   "source": [
    "Note that the query is a Boolean expression, provided as a string `''`. \n",
    "\n",
    "Inside the query, column names are unquoted and string values are quoted using `\"\"`.\n",
    "\n",
    "We can refer to columns containing spaces by enclosing them in backticks ` `` `.\n",
    "\n",
    "We can also refer to variables in the environment using the `@` prefix."
   ]
  },
  {
   "cell_type": "code",
   "execution_count": null,
   "metadata": {},
   "outputs": [],
   "source": [
    "max_period = 30\n",
    "planets.query('rings and `orbital period` < @max_period')"
   ]
  },
  {
   "cell_type": "markdown",
   "metadata": {},
   "source": [
    "### [`sort_values`](https://pandas.pydata.org/pandas-docs/stable/reference/api/pandas.DataFrame.sort_values.html)\n",
    "\n",
    "returns a copy of the DataFrame, sorted by ascending column value:"
   ]
  },
  {
   "cell_type": "code",
   "execution_count": null,
   "metadata": {},
   "outputs": [],
   "source": [
    "planets.sort_values('diameter')"
   ]
  },
  {
   "cell_type": "markdown",
   "metadata": {},
   "source": [
    "...or by descending value using `ascending=False`:"
   ]
  },
  {
   "cell_type": "code",
   "execution_count": null,
   "metadata": {},
   "outputs": [],
   "source": [
    "planets.sort_values('diameter', ascending=False)"
   ]
  },
  {
   "cell_type": "markdown",
   "metadata": {},
   "source": [
    "The original DataFrame is unchanged:"
   ]
  },
  {
   "cell_type": "code",
   "execution_count": null,
   "metadata": {},
   "outputs": [],
   "source": [
    "planets"
   ]
  },
  {
   "cell_type": "markdown",
   "metadata": {},
   "source": [
    "##### *Exercise 1d*\n",
    "\n",
    "Use manipulations of `planets` to make DataFrames containing the following:"
   ]
  },
  {
   "cell_type": "markdown",
   "metadata": {},
   "source": [
    "1. the terrestrial planets, ordered by increasing mass."
   ]
  },
  {
   "cell_type": "code",
   "execution_count": null,
   "metadata": {},
   "outputs": [],
   "source": []
  },
  {
   "cell_type": "markdown",
   "metadata": {},
   "source": [
    "2. the giant planets, ordered from smallest to largest."
   ]
  },
  {
   "cell_type": "code",
   "execution_count": null,
   "metadata": {},
   "outputs": [],
   "source": []
  },
  {
   "cell_type": "markdown",
   "metadata": {},
   "source": [
    "3. the planets that are more massive than Neptune."
   ]
  },
  {
   "cell_type": "code",
   "execution_count": null,
   "metadata": {},
   "outputs": [],
   "source": []
  },
  {
   "cell_type": "markdown",
   "metadata": {},
   "source": [
    "***\n",
    "\n",
    "## 1.4 Making new columns from existing ones\n",
    "\n",
    "It's easy to add a new column to a DataFrame. We just use `[]=` to assign a Series to a new column label:"
   ]
  },
  {
   "cell_type": "code",
   "execution_count": null,
   "metadata": {},
   "outputs": [],
   "source": [
    "df = planets.copy()\n",
    "df['radius'] = df['diameter'] / 2\n",
    "df"
   ]
  },
  {
   "cell_type": "markdown",
   "metadata": {},
   "source": [
    "Note that Series objects combine in a row-wise manner, similar to numpy arrays, e.g.:"
   ]
  },
  {
   "cell_type": "code",
   "execution_count": null,
   "metadata": {},
   "outputs": [],
   "source": [
    "planets['name'] + \" -- \" + planets['type']"
   ]
  },
  {
   "cell_type": "markdown",
   "metadata": {},
   "source": [
    "##### *Exercise 1e*\n",
    "\n",
    "Add a new column to `planets` to show the density of each planet relative to Earth.\n"
   ]
  },
  {
   "cell_type": "code",
   "execution_count": null,
   "metadata": {},
   "outputs": [],
   "source": []
  },
  {
   "cell_type": "markdown",
   "metadata": {},
   "source": [
    "***"
   ]
  }
 ],
 "metadata": {
  "kernelspec": {
   "display_name": "Python 3 (ipykernel)",
   "language": "python",
   "name": "python3"
  },
  "language_info": {
   "codemirror_mode": {
    "name": "ipython",
    "version": 3
   },
   "file_extension": ".py",
   "mimetype": "text/x-python",
   "name": "python",
   "nbconvert_exporter": "python",
   "pygments_lexer": "ipython3",
   "version": "3.8.16"
  }
 },
 "nbformat": 4,
 "nbformat_minor": 4
}
